{
 "cells": [
  {
   "cell_type": "markdown",
   "metadata": {},
   "source": [
    "## Set up"
   ]
  },
  {
   "cell_type": "code",
   "execution_count": 1,
   "metadata": {},
   "outputs": [],
   "source": [
    "import pandas as pd\n",
    "import requests\n",
    "from urllib.parse import quote\n",
    "from ast import literal_eval"
   ]
  },
  {
   "cell_type": "code",
   "execution_count": 2,
   "metadata": {},
   "outputs": [],
   "source": [
    "df = pd.read_excel(r'C:\\Users\\ChoJ2\\OneDrive - STV Incorporated\\Documents - DAS - Projects\\Projects\\02 Internal Initiatives_R&D\\MTA OpenData Challenge 2024\\01_Data\\Brooklyn_Tract_SpatialSampling_XY_Address.xlsx')"
   ]
  },
  {
   "cell_type": "code",
   "execution_count": 3,
   "metadata": {},
   "outputs": [],
   "source": [
    "# rename coordinates as lat and lon to reduce confusion\n",
    "df.rename(columns={'Longitude_Y':'lon','Latitude_X':'lat'},inplace=True)"
   ]
  },
  {
   "cell_type": "markdown",
   "metadata": {},
   "source": [
    "### Function"
   ]
  },
  {
   "cell_type": "code",
   "execution_count": 4,
   "metadata": {},
   "outputs": [],
   "source": [
    "# API Call\n",
    "def get_walk_score(lat, lon, address):\n",
    "    address = address  # URL encode the address\n",
    "    url = f\"https://api.walkscore.com/score?format=json&address={address}\"\n",
    "    url += f\"&lat={lat}&lon={lon}&bike=1&wsapikey=c1c585f79ea03ba285ed6a12c8a87992\"\n",
    "    \n",
    "    try:\n",
    "        response = requests.get(url)\n",
    "        if response.status_code == 200:\n",
    "            return response.text  # Return the raw JSON response as text\n",
    "        else:\n",
    "            return 'Error {}: {}'.format(response.status_code, response.text)\n",
    "    except requests.exceptions.RequestException as e:\n",
    "        return f'Error: {e}'"
   ]
  },
  {
   "cell_type": "markdown",
   "metadata": {},
   "source": [
    "## Get Bike score & description"
   ]
  },
  {
   "cell_type": "code",
   "execution_count": 5,
   "metadata": {},
   "outputs": [],
   "source": [
    "# API Call\n",
    "df['api_call'] = df.apply(lambda row: get_walk_score(row['lat'],row['lon'],quote(row['Match_addr'])),axis=1)"
   ]
  },
  {
   "cell_type": "code",
   "execution_count": 6,
   "metadata": {},
   "outputs": [],
   "source": [
    "# Convert str to dict\n",
    "df['api_call'] = df['api_call'].apply(literal_eval)"
   ]
  },
  {
   "cell_type": "code",
   "execution_count": 7,
   "metadata": {},
   "outputs": [],
   "source": [
    "# Parse bike dict\n",
    "df['bike'] = df.apply(lambda row: row['api_call'].get('bike',None),axis=1)"
   ]
  },
  {
   "cell_type": "code",
   "execution_count": 21,
   "metadata": {},
   "outputs": [],
   "source": [
    "df.to_excel('API_call_result.xlsx')\n"
   ]
  },
  {
   "cell_type": "code",
   "execution_count": 10,
   "metadata": {},
   "outputs": [],
   "source": [
    "# Dropping locations \n",
    "bike_score_avil_df = df[~df['bike'].isna()]"
   ]
  },
  {
   "cell_type": "code",
   "execution_count": 11,
   "metadata": {},
   "outputs": [],
   "source": [
    "# Parse out bike_score\n",
    "bike_score_avil_df['bike_score'] = bike_score_avil_df.apply(lambda row:row['bike']['score'],axis=1)"
   ]
  },
  {
   "cell_type": "code",
   "execution_count": 12,
   "metadata": {},
   "outputs": [
    {
     "data": {
      "text/html": [
       "<div>\n",
       "<style scoped>\n",
       "    .dataframe tbody tr th:only-of-type {\n",
       "        vertical-align: middle;\n",
       "    }\n",
       "\n",
       "    .dataframe tbody tr th {\n",
       "        vertical-align: top;\n",
       "    }\n",
       "\n",
       "    .dataframe thead th {\n",
       "        text-align: right;\n",
       "    }\n",
       "</style>\n",
       "<table border=\"1\" class=\"dataframe\">\n",
       "  <thead>\n",
       "    <tr style=\"text-align: right;\">\n",
       "      <th></th>\n",
       "      <th>bike_score</th>\n",
       "    </tr>\n",
       "    <tr>\n",
       "      <th>Census Tract FIPS Code (2020)</th>\n",
       "      <th></th>\n",
       "    </tr>\n",
       "  </thead>\n",
       "  <tbody>\n",
       "    <tr>\n",
       "      <th>36047000100</th>\n",
       "      <td>79.0</td>\n",
       "    </tr>\n",
       "    <tr>\n",
       "      <th>36047000200</th>\n",
       "      <td>79.6</td>\n",
       "    </tr>\n",
       "    <tr>\n",
       "      <th>36047000301</th>\n",
       "      <td>73.4</td>\n",
       "    </tr>\n",
       "    <tr>\n",
       "      <th>36047000501</th>\n",
       "      <td>89.2</td>\n",
       "    </tr>\n",
       "    <tr>\n",
       "      <th>36047000502</th>\n",
       "      <td>90.6</td>\n",
       "    </tr>\n",
       "    <tr>\n",
       "      <th>...</th>\n",
       "      <td>...</td>\n",
       "    </tr>\n",
       "    <tr>\n",
       "      <th>36081055500</th>\n",
       "      <td>76.0</td>\n",
       "    </tr>\n",
       "    <tr>\n",
       "      <th>36081055900</th>\n",
       "      <td>59.0</td>\n",
       "    </tr>\n",
       "    <tr>\n",
       "      <th>36081056100</th>\n",
       "      <td>57.2</td>\n",
       "    </tr>\n",
       "    <tr>\n",
       "      <th>36081064102</th>\n",
       "      <td>33.0</td>\n",
       "    </tr>\n",
       "    <tr>\n",
       "      <th>36081107202</th>\n",
       "      <td>26.0</td>\n",
       "    </tr>\n",
       "  </tbody>\n",
       "</table>\n",
       "<p>836 rows × 1 columns</p>\n",
       "</div>"
      ],
      "text/plain": [
       "                               bike_score\n",
       "Census Tract FIPS Code (2020)            \n",
       "36047000100                          79.0\n",
       "36047000200                          79.6\n",
       "36047000301                          73.4\n",
       "36047000501                          89.2\n",
       "36047000502                          90.6\n",
       "...                                   ...\n",
       "36081055500                          76.0\n",
       "36081055900                          59.0\n",
       "36081056100                          57.2\n",
       "36081064102                          33.0\n",
       "36081107202                          26.0\n",
       "\n",
       "[836 rows x 1 columns]"
      ]
     },
     "execution_count": 12,
     "metadata": {},
     "output_type": "execute_result"
    }
   ],
   "source": [
    "# Get average bikescore per Census Tract FIPS\n",
    "groupby_df = bike_score_avil_df[['Census Tract FIPS Code (2020)','bike_score']].groupby('Census Tract FIPS Code (2020)').mean()\n",
    "groupby_df"
   ]
  },
  {
   "cell_type": "markdown",
   "metadata": {},
   "source": [
    "From: https://www.walkscore.com/bike-score-methodology.shtml\n",
    "\n",
    "<table cellspacing=\"0\" cellpadding=\"0\" class=\"light-dividers align-left\">\n",
    "            <tbody>\n",
    "              <tr>\n",
    "                <th><nobr>Bike Score</nobr></th>\n",
    "                <th>Description</th>\n",
    "              </tr>\n",
    "              <tr>\n",
    "                <td>90–100</td>\n",
    "                <td><strong>Biker's Paradise</strong><br>\n",
    "                Daily errands can be accomplished on a bike.</td>\n",
    "              </tr>\n",
    "              <tr>\n",
    "                <td>70–89</td>\n",
    "                <td><strong>Very Bikeable</strong><br>\n",
    "                Biking is convenient for most trips.</td>\n",
    "              </tr>\n",
    "              <tr>\n",
    "                <td>50–69</td>\n",
    "                <td><strong>Bikeable</strong><br>\n",
    "                  Some bike infrastructure.</td>\n",
    "              </tr>\n",
    "              <tr>\n",
    "                <td>0–49</td>\n",
    "                <td><strong>Somewhat Bikeable</strong><br>\n",
    "                Minimal bike infrastructure.</td>\n",
    "              </tr>\n",
    "            </tbody>\n",
    "          </table>"
   ]
  },
  {
   "cell_type": "code",
   "execution_count": 13,
   "metadata": {},
   "outputs": [],
   "source": [
    "# Add Bike Description\n",
    "def get_bike_description(score):\n",
    "    if score >= 90:\n",
    "        return \"Biker's Paradise\"\n",
    "    elif score >= 70:\n",
    "        return \"Very Bikeable\"\n",
    "    elif score >= 50:\n",
    "        return \"Bikeable\"\n",
    "    else: \n",
    "        return \"Somewhat Bikeable\""
   ]
  },
  {
   "cell_type": "code",
   "execution_count": 14,
   "metadata": {},
   "outputs": [],
   "source": [
    "groupby_df['description'] = groupby_df.apply(lambda row: get_bike_description(row['bike_score']),axis=1)"
   ]
  },
  {
   "cell_type": "code",
   "execution_count": 15,
   "metadata": {},
   "outputs": [],
   "source": [
    "# Add Bike Description Detail\n",
    "def get_bike_detail(score):\n",
    "    if score >= 90:\n",
    "        return \"Daily errands can be accomplished on a bike.\"\n",
    "    elif score >= 70:\n",
    "        return \"Biking is convenient for most trips.\"\n",
    "    elif score >= 50:\n",
    "        return \"Some bike infrastructure.\"\n",
    "    else: \n",
    "        return \"Minimal bike infrastructure.\""
   ]
  },
  {
   "cell_type": "code",
   "execution_count": 16,
   "metadata": {},
   "outputs": [],
   "source": [
    "groupby_df['detail'] = groupby_df.apply(lambda row: get_bike_detail(row['bike_score']),axis=1)"
   ]
  },
  {
   "cell_type": "code",
   "execution_count": 17,
   "metadata": {},
   "outputs": [
    {
     "data": {
      "text/html": [
       "<div>\n",
       "<style scoped>\n",
       "    .dataframe tbody tr th:only-of-type {\n",
       "        vertical-align: middle;\n",
       "    }\n",
       "\n",
       "    .dataframe tbody tr th {\n",
       "        vertical-align: top;\n",
       "    }\n",
       "\n",
       "    .dataframe thead th {\n",
       "        text-align: right;\n",
       "    }\n",
       "</style>\n",
       "<table border=\"1\" class=\"dataframe\">\n",
       "  <thead>\n",
       "    <tr style=\"text-align: right;\">\n",
       "      <th></th>\n",
       "      <th>bike_score</th>\n",
       "      <th>description</th>\n",
       "      <th>detail</th>\n",
       "    </tr>\n",
       "    <tr>\n",
       "      <th>Census Tract FIPS Code (2020)</th>\n",
       "      <th></th>\n",
       "      <th></th>\n",
       "      <th></th>\n",
       "    </tr>\n",
       "  </thead>\n",
       "  <tbody>\n",
       "    <tr>\n",
       "      <th>36047000100</th>\n",
       "      <td>79.0</td>\n",
       "      <td>Very Bikeable</td>\n",
       "      <td>Biking is convenient for most trips.</td>\n",
       "    </tr>\n",
       "    <tr>\n",
       "      <th>36047000200</th>\n",
       "      <td>79.6</td>\n",
       "      <td>Very Bikeable</td>\n",
       "      <td>Biking is convenient for most trips.</td>\n",
       "    </tr>\n",
       "    <tr>\n",
       "      <th>36047000301</th>\n",
       "      <td>73.4</td>\n",
       "      <td>Very Bikeable</td>\n",
       "      <td>Biking is convenient for most trips.</td>\n",
       "    </tr>\n",
       "    <tr>\n",
       "      <th>36047000501</th>\n",
       "      <td>89.2</td>\n",
       "      <td>Very Bikeable</td>\n",
       "      <td>Biking is convenient for most trips.</td>\n",
       "    </tr>\n",
       "    <tr>\n",
       "      <th>36047000502</th>\n",
       "      <td>90.6</td>\n",
       "      <td>Biker's Paradise</td>\n",
       "      <td>Daily errands can be accomplished on a bike.</td>\n",
       "    </tr>\n",
       "    <tr>\n",
       "      <th>...</th>\n",
       "      <td>...</td>\n",
       "      <td>...</td>\n",
       "      <td>...</td>\n",
       "    </tr>\n",
       "    <tr>\n",
       "      <th>36081055500</th>\n",
       "      <td>76.0</td>\n",
       "      <td>Very Bikeable</td>\n",
       "      <td>Biking is convenient for most trips.</td>\n",
       "    </tr>\n",
       "    <tr>\n",
       "      <th>36081055900</th>\n",
       "      <td>59.0</td>\n",
       "      <td>Bikeable</td>\n",
       "      <td>Some bike infrastructure.</td>\n",
       "    </tr>\n",
       "    <tr>\n",
       "      <th>36081056100</th>\n",
       "      <td>57.2</td>\n",
       "      <td>Bikeable</td>\n",
       "      <td>Some bike infrastructure.</td>\n",
       "    </tr>\n",
       "    <tr>\n",
       "      <th>36081064102</th>\n",
       "      <td>33.0</td>\n",
       "      <td>Somewhat Bikeable</td>\n",
       "      <td>Minimal bike infrastructure.</td>\n",
       "    </tr>\n",
       "    <tr>\n",
       "      <th>36081107202</th>\n",
       "      <td>26.0</td>\n",
       "      <td>Somewhat Bikeable</td>\n",
       "      <td>Minimal bike infrastructure.</td>\n",
       "    </tr>\n",
       "  </tbody>\n",
       "</table>\n",
       "<p>836 rows × 3 columns</p>\n",
       "</div>"
      ],
      "text/plain": [
       "                               bike_score        description  \\\n",
       "Census Tract FIPS Code (2020)                                  \n",
       "36047000100                          79.0      Very Bikeable   \n",
       "36047000200                          79.6      Very Bikeable   \n",
       "36047000301                          73.4      Very Bikeable   \n",
       "36047000501                          89.2      Very Bikeable   \n",
       "36047000502                          90.6   Biker's Paradise   \n",
       "...                                   ...                ...   \n",
       "36081055500                          76.0      Very Bikeable   \n",
       "36081055900                          59.0           Bikeable   \n",
       "36081056100                          57.2           Bikeable   \n",
       "36081064102                          33.0  Somewhat Bikeable   \n",
       "36081107202                          26.0  Somewhat Bikeable   \n",
       "\n",
       "                                                                     detail  \n",
       "Census Tract FIPS Code (2020)                                                \n",
       "36047000100                            Biking is convenient for most trips.  \n",
       "36047000200                            Biking is convenient for most trips.  \n",
       "36047000301                            Biking is convenient for most trips.  \n",
       "36047000501                            Biking is convenient for most trips.  \n",
       "36047000502                    Daily errands can be accomplished on a bike.  \n",
       "...                                                                     ...  \n",
       "36081055500                            Biking is convenient for most trips.  \n",
       "36081055900                                       Some bike infrastructure.  \n",
       "36081056100                                       Some bike infrastructure.  \n",
       "36081064102                                    Minimal bike infrastructure.  \n",
       "36081107202                                    Minimal bike infrastructure.  \n",
       "\n",
       "[836 rows x 3 columns]"
      ]
     },
     "execution_count": 17,
     "metadata": {},
     "output_type": "execute_result"
    }
   ],
   "source": [
    "groupby_df"
   ]
  },
  {
   "cell_type": "code",
   "execution_count": 18,
   "metadata": {},
   "outputs": [],
   "source": [
    "# Export to Excel file\n",
    "groupby_df.to_excel('bike_score.xlsx')"
   ]
  },
  {
   "cell_type": "markdown",
   "metadata": {},
   "source": [
    "## Data Validation"
   ]
  },
  {
   "cell_type": "code",
   "execution_count": 25,
   "metadata": {},
   "outputs": [
    {
     "data": {
      "text/plain": [
       "Census Tract FIPS Code (2020)\n",
       "36047000100    5\n",
       "36047038200    5\n",
       "36047036200    5\n",
       "36047036300    5\n",
       "36047036400    5\n",
       "              ..\n",
       "36061000202    1\n",
       "36061006200    1\n",
       "36081055300    1\n",
       "36081006202    1\n",
       "36081107202    1\n",
       "Name: count, Length: 836, dtype: int64"
      ]
     },
     "execution_count": 25,
     "metadata": {},
     "output_type": "execute_result"
    }
   ],
   "source": [
    "df['Census Tract FIPS Code (2020)'].value_counts()"
   ]
  },
  {
   "cell_type": "code",
   "execution_count": 20,
   "metadata": {},
   "outputs": [
    {
     "data": {
      "text/plain": [
       "Census Tract FIPS Code (2020)\n",
       "36047000100    5\n",
       "36047038200    5\n",
       "36047036200    5\n",
       "36047036300    5\n",
       "36047036400    5\n",
       "              ..\n",
       "36061000202    1\n",
       "36061006200    1\n",
       "36081055300    1\n",
       "36081006202    1\n",
       "36081107202    1\n",
       "Name: count, Length: 836, dtype: int64"
      ]
     },
     "execution_count": 20,
     "metadata": {},
     "output_type": "execute_result"
    }
   ],
   "source": [
    "bike_score_avil_df['Census Tract FIPS Code (2020)'].value_counts()"
   ]
  }
 ],
 "metadata": {
  "kernelspec": {
   "display_name": "mta_data_challenge",
   "language": "python",
   "name": "python3"
  },
  "language_info": {
   "codemirror_mode": {
    "name": "ipython",
    "version": 3
   },
   "file_extension": ".py",
   "mimetype": "text/x-python",
   "name": "python",
   "nbconvert_exporter": "python",
   "pygments_lexer": "ipython3",
   "version": "3.12.7"
  }
 },
 "nbformat": 4,
 "nbformat_minor": 2
}
